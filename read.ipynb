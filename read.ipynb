{
    "cells": [
        {
            "cell_type": "markdown",
            "metadata": {
                "azdata_cell_guid": "f85b85a8-3154-4b28-9366-2d7076d72892",
                "language": "sql"
            },
            "source": [
                "# Mini Project Assignment\n",
                "- **Wakhisi Kevin Wasike - P15/1928/2020** <br />\n",
                "- **Staicy Nelima Muthoni Mugo - P15/1925/2020**"
            ]
        },
        {
            "cell_type": "markdown",
            "metadata": {
                "azdata_cell_guid": "40af8960-4326-4dcd-addb-2d4e84565549"
            },
            "source": [
                "Create a distributed heterogeneous database environment comprising three sites with three different participating database platforms, and at least two different operating systems. Use the above environment to demonstrate your grasp of fragmentation and reconstruction.\n",
                "\n",
                "Think of a domain area comprising of at least four distributed relations. Write out your applications/reports and use them to perform fragmentation. Come up with appropriate query access frequencies of your choice. Allocate the fragments by implementing them physically in the participating databases. Choose one of the sites to be the decision site and perform reconstruction using either views, functions, stored procedures or any other technique."
            ]
        },
        {
            "cell_type": "markdown",
            "metadata": {},
            "source": [
                "## Domain - Ecommerce"
            ]
        },
        {
            "cell_type": "markdown",
            "metadata": {
                "azdata_cell_guid": "d054f7a5-abde-44e7-94c9-fdd019a52da8"
            },
            "source": [
                "_The company Nitras is an online retailer that sells a variety of products, such as clothing, electronics, books, and home appliances. Nitras wants to use a distributed database to store and manage its inventory, orders, customers, and suppliers across 3 different counties. You have been hired as a consultant to design and develop the distributed database._"
            ]
        },
        {
            "attachments": {},
            "cell_type": "markdown",
            "metadata": {
                "azdata_cell_guid": "a3695833-9c9d-4c2c-ad4d-7d6ce4b1b1a4"
            },
            "source": [
                "| 3 sites | 3 different Database Platforms | at least 2 Operating Systems | addresses |\n",
                "| --- | --- | --- | --- |\n",
                "| Machakos (Decision site) | PostgreSQL | Windows | localhost |\n",
                "| Nairobi  | MySQL | Linux | 24.144.94.53 |\n",
                "| Nakuru | MariaDB | Linux | 146.190.146.117 |\n"
            ]
        },
        {
            "cell_type": "markdown",
            "metadata": {},
            "source": [
                "## Global Tables"
            ]
        },
        {
            "attachments": {},
            "cell_type": "markdown",
            "metadata": {
                "azdata_cell_guid": "60493754-5b62-45a3-8ec5-40e96f6c0083"
            },
            "source": [
                "| Table | Field Description |\n",
                "| --- | --- |\n",
                "| category | **id**: Unique identifier<br>**name**: Type of goods dealt with (clothing, electronics, books, etc.)<br> **storehouse**: the storehouse that deals with that category (either Nairobi, Nakuru or Machakos)|\n",
                "| inventory | **id**: Unique identifier for each product<br>**name**: Name of the product<br>**category_id**: Foreign key referencing the id of the category that this product belongs to <br>**description**: Brief description of the product<br>**price**: Price of the product<br>**quantity**: Number of units available for the product<br>**supplier\\_id**: Foreign key referencing the id of the supplier who provides the product |\n",
                "| orders | **id**: Unique identifier for each order<br>**customer\\_id**: Foreign key referencing the id of the customer who placed the order<br>**date**: Date of the order<br>**item**: Foreign Key referencing product in Inventories<br>**status**: Status of the order (pending, shipped, delivered, etc.)<br>**total**: Total amount of the order<br>**shipped\\_from**: Storehouse where that item is located( either Nairobi, Nakuru or Machakos)<br>**shipping\\_address**: Shipping address of the order |\n",
                "| customers | **id**: Unique identifier for each customer<br>**name**: Name of the customer<br>**email**: Email of the customer<br>**password**: Password of the customer<br>**phone**: Phone number of the customer<br>**address**: Address of the customer<br>**orders\\_count**: Number of orders placed by the customer |\n",
                "| suppliers | **id**: Unique identifier for each supplier<br>**name**: Name of the supplier<br>**email**: Email of the supplier<br>**phone**: Phone number of the supplier<br>**address**: Address of the supplier<br>**products\\_count**: Number of products provided by the supplier |"
            ]
        },
        {
            "cell_type": "markdown",
            "metadata": {},
            "source": [
                "### `category` Table"
            ]
        },
        {
            "cell_type": "code",
            "execution_count": null,
            "metadata": {},
            "outputs": [],
            "source": [
                "CREATE TABLE category (\n",
                "    id INT PRIMARY KEY,\n",
                "    name VARCHAR(255) NOT NULL,\n",
                "    storehouse VARCHAR(50) NOT NULL\n",
                ");\n",
                "\n",
                "INSERT INTO category (id, name, storehouse) VALUES\n",
                "(1, 'Clothing', 'Nairobi'),\n",
                "(2, 'Electronics', 'Nakuru'),\n",
                "(3, 'Books', 'Machakos'),\n",
                "(4, 'Toys', 'Nairobi'),\n",
                "(5, 'Furniture', 'Nakuru');"
            ]
        },
        {
            "cell_type": "markdown",
            "metadata": {},
            "source": [
                "### `suppliers` Table"
            ]
        },
        {
            "cell_type": "code",
            "execution_count": null,
            "metadata": {},
            "outputs": [],
            "source": [
                "CREATE TABLE suppliers (\n",
                "    id INT PRIMARY KEY,\n",
                "    name VARCHAR(255) NOT NULL,\n",
                "    email VARCHAR(255) NOT NULL,\n",
                "    phone VARCHAR(20),\n",
                "    address TEXT,\n",
                "    products_count INT\n",
                ");\n",
                "\n",
                "INSERT INTO suppliers (id, name, email, phone, address, products_count) VALUES\n",
                "(1, 'Supplier A', 'supplierA@example.com', '111-222-3333', '400 Supplier St', 5),\n",
                "(2, 'Supplier B', 'supplierB@example.com', '444-555-6666', '500 Supplier St', 3),\n",
                "(3, 'Supplier C', 'supplierC@example.com', '777-888-9999', '600 Supplier St', 7),\n",
                "(4, 'Supplier D', 'supplierD@example.com', '999-888-7777', '700 Supplier St', 10),\n",
                "(5, 'Supplier E', 'supplierE@example.com', '333-555-1111', '800 Supplier St', 8);"
            ]
        },
        {
            "cell_type": "markdown",
            "metadata": {},
            "source": [
                "### `inventory` Table"
            ]
        },
        {
            "cell_type": "code",
            "execution_count": null,
            "metadata": {},
            "outputs": [],
            "source": [
                "CREATE TABLE inventory (\n",
                "    id INT PRIMARY KEY,\n",
                "    name VARCHAR(255) NOT NULL,\n",
                "    category_id INT,\n",
                "    description TEXT,\n",
                "    price DECIMAL(10, 2) NOT NULL,\n",
                "    quantity INT NOT NULL,\n",
                "    supplier_id INT,\n",
                "    FOREIGN KEY (category_id) REFERENCES category(id),\n",
                "    FOREIGN KEY (supplier_id) REFERENCES suppliers(id)\n",
                ");\n",
                "\n",
                "INSERT INTO inventory (id, name, category_id, description, price, quantity, supplier_id) VALUES\n",
                "(1, 'T-Shirt', 1, 'Cotton T-Shirt', 19.99, 100, 1),\n",
                "(2, 'Laptop', 2, 'High-performance laptop', 899.99, 30, 2),\n",
                "(3, 'Harry Potter Book', 3, 'Fantasy novel', 15.99, 50, 3),\n",
                "(4, 'Action Figure', 4, 'Superhero action figure', 9.99, 80, 4),\n",
                "(5, 'Sofa', 5, 'Comfortable sofa', 499.99, 10, 5),\n",
                "(6, 'Jeans', 1, 'Blue jeans', 29.99, 50, 1),\n",
                "(7, 'Smartphone', 2, 'Latest smartphone model', 699.99, 20, 2),\n",
                "(8, 'Cookbook', 3, 'Collection of recipes', 12.99, 40, 3),\n",
                "(9, 'Board Game', 4, 'Family board game', 24.99, 60, 4),\n",
                "(10, 'Coffee Table', 5, 'Wooden coffee table', 129.99, 15, 5),\n",
                "(11, 'Dress', 1, 'Elegant dress', 39.99, 30, 1),\n",
                "(12, 'Headphones', 2, 'Noise-canceling headphones', 149.99, 25, 2),\n",
                "(13, 'Mystery Novel', 3, 'Thriller mystery novel', 18.99, 35, 3),\n",
                "(14, 'Building Blocks', 4, 'Educational building blocks', 14.99, 70, 4),\n",
                "(15, 'Bed Frame', 5, 'Queen-sized bed frame', 299.99, 8, 5),\n",
                "(16, 'Polo Shirt', 1, 'Casual polo shirt', 24.99, 40, 1),\n",
                "(17, 'Tablet', 2, 'Android tablet', 199.99, 15, 2),\n",
                "(18, 'Science Book', 3, 'Scientific exploration book', 20.99, 25, 3),\n",
                "(19, 'Puzzle Set', 4, 'Challenging puzzle set', 17.99, 55, 4),\n",
                "(20, 'Bookshelf', 5, 'Wooden bookshelf', 179.99, 12, 5);"
            ]
        },
        {
            "cell_type": "markdown",
            "metadata": {},
            "source": [
                "### `customers` Table"
            ]
        },
        {
            "cell_type": "code",
            "execution_count": null,
            "metadata": {},
            "outputs": [],
            "source": [
                "CREATE TABLE customers (\n",
                "    id INT PRIMARY KEY,\n",
                "    name VARCHAR(255) NOT NULL,\n",
                "    email VARCHAR(255) NOT NULL,\n",
                "    password VARCHAR(255) NOT NULL,\n",
                "    phone VARCHAR(20),\n",
                "    address TEXT,\n",
                "    orders_count INT\n",
                ");\n",
                "\n",
                "INSERT INTO customers (id, name, email, password, phone, address, orders_count) VALUES\n",
                "(1, 'John Doe', 'john@example.com', 'password123', '123-456-7890', '101 Main St', 2),\n",
                "(2, 'Jane Smith', 'jane@example.com', 'pass456', '987-654-3210', '202 Oak St', 1),\n",
                "(3, 'Bob Johnson', 'bob@example.com', 'secret321', '555-123-4567', '303 Pine St', 3),\n",
                "(4, 'Alice Brown', 'alice@example.com', 'qwerty', '777-888-1234', '404 Maple St', 2),\n",
                "(5, 'Charlie Davis', 'charlie@example.com', 'abcdef', '555-999-1111', '505 Cedar St', 4);"
            ]
        },
        {
            "cell_type": "markdown",
            "metadata": {},
            "source": [
                "### `orders` Table"
            ]
        },
        {
            "cell_type": "code",
            "execution_count": null,
            "metadata": {},
            "outputs": [],
            "source": [
                "CREATE TABLE orders (\n",
                "    id INT PRIMARY KEY,\n",
                "    customer_id INT,\n",
                "    date DATE,\n",
                "    item INT,\n",
                "    status VARCHAR(20),\n",
                "    total DECIMAL(10, 2),\n",
                "    shipped_from VARCHAR(50),\n",
                "    shipping_address TEXT,\n",
                "    FOREIGN KEY (customer_id) REFERENCES customers(id),\n",
                "    FOREIGN KEY (item) REFERENCES inventory(id)\n",
                ");\n",
                "\n",
                "INSERT INTO orders (id, customer_id, date, item, status, total, shipped_from, shipping_address) VALUES\n",
                "(1, 1, '2024-01-01', 1, 'Shipped', 199.95, 'Nairobi', '123 Main St, Nairobi'),\n",
                "(2, 2, '2024-01-02', 3, 'Pending', 31.98, 'Machakos', '456 Oak St, Machakos'),\n",
                "(3, 3, '2024-01-03', 2, 'Delivered', 899.99, 'Nakuru', '789 Pine St, Nakuru'),\n",
                "(4, 4, '2024-01-04', 5, 'Shipped', 649.95, 'Nairobi', '404 Maple St, Nairobi'),\n",
                "(5, 5, '2024-01-05', 8, 'Pending', 149.99, 'Machakos', '505 Cedar St, Machakos'),\n",
                "(6, 1, '2024-01-06', 12, 'Delivered', 299.97, 'Nairobi', '123 Main St, Nairobi'),\n",
                "(7, 2, '2024-01-07', 15, 'Shipped', 2399.92, 'Nakuru', '202 Oak St, Nakuru'),\n",
                "(8, 3, '2024-01-08', 18, 'Delivered', 419.85, 'Machakos', '303 Pine St, Machakos'),\n",
                "(9, 4, '2024-01-09', 20, 'Pending', 359.98, 'Nairobi', '404 Maple St, Nairobi'),\n",
                "(10, 5, '2024-01-10', 16, 'Shipped', 999.60, 'Nakuru', '505 Cedar St, Nakuru');"
            ]
        },
        {
            "cell_type": "markdown",
            "metadata": {
                "azdata_cell_guid": "9ab57563-841c-48a7-a599-45ca9731ce91"
            },
            "source": [
                "## Applications"
            ]
        },
        {
            "attachments": {},
            "cell_type": "markdown",
            "metadata": {
                "azdata_cell_guid": "e5416bdc-699b-43d5-8bb2-35475ae71749"
            },
            "source": [
                "- Application 1 - Find the name and price of the least ordered product in each store/branch\n",
                "- Application 2 - Find the email and name of the customers who have ordered more than 3 times\n",
                "- Application 3 - Find the total number of products in stock in for each supplier"
            ]
        },
        {
            "cell_type": "markdown",
            "metadata": {
                "azdata_cell_guid": "c516fe7b-d012-44ff-bdf4-1ad990e5a078"
            },
            "source": [
                "## Query Execution Frequencies"
            ]
        },
        {
            "attachments": {},
            "cell_type": "markdown",
            "metadata": {
                "azdata_cell_guid": "23a683d7-93d1-487c-b043-4ea015685295"
            },
            "source": [
                "|  | Machakos | Nairobi | Nakuru |\n",
                "| --- | --- | --- | --- |\n",
                "| Q1 |  |  |  |\n",
                "| Q2 |  |  |  |\n",
                "| Q3 |  |  |  |"
            ]
        },
        {
            "attachments": {},
            "cell_type": "markdown",
            "metadata": {
                "azdata_cell_guid": "0488ca73-1bb2-486a-a7e4-8c4d54696eb6"
            },
            "source": [
                "## HORIZONTAL PARTIONING"
            ]
        },
        {
            "attachments": {},
            "cell_type": "markdown",
            "metadata": {
                "azdata_cell_guid": "939a7897-e5d5-4542-868f-d7399a8a285f"
            },
            "source": [
                "- Partioning of the inventories table based on the `category` attribute because each category's products are stored in a particular site / storehouse."
            ]
        },
        {
            "cell_type": "markdown",
            "metadata": {
                "azdata_cell_guid": "54ae84d6-37a9-4923-b942-fe2e1d446c36"
            },
            "source": [
                "- Partionining of the Orders table based on the `shipped_from` attribute."
            ]
        },
        {
            "cell_type": "code",
            "execution_count": null,
            "metadata": {
                "azdata_cell_guid": "18bef148-47b4-4fc8-95be-76073b9dcf63",
                "language": "sql",
                "vscode": {
                    "languageId": "python"
                }
            },
            "outputs": [],
            "source": []
        }
    ],
    "metadata": {
        "kernelspec": {
            "display_name": "SQL",
            "language": "sql",
            "name": "SQL"
        },
        "language_info": {
            "name": "sql",
            "version": ""
        }
    },
    "nbformat": 4,
    "nbformat_minor": 2
}
