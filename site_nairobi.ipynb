{
 "cells": [
  {
   "cell_type": "markdown",
   "metadata": {},
   "source": [
    "# Site Nairobi\n",
    "#### **MySQL**\n",
    "\n",
    "- Wakhisi Kevin Wasike - P15/1928/2020 <br />\n",
    "- Staicy Nelima Muthoni Mugo - P15/1925/2020\n",
    "\n",
    "<br />\n",
    "\n",
    "\n",
    "**Kindly ensure that you've gone through the README notebook pdf, site_nakuru, and finally the decision site site_machakos notebook to get a full picture of how fragmentation and reconstruction has been done**\n",
    "\n",
    "<br />\n",
    "<br />"
   ]
  },
  {
   "cell_type": "markdown",
   "metadata": {},
   "source": [
    "Ensure that the site / machine already has the `nitras` database. If not, use the `CREATE DATABASE nitras;` SQL query "
   ]
  },
  {
   "cell_type": "markdown",
   "metadata": {},
   "source": [
    "## Tables"
   ]
  },
  {
   "cell_type": "markdown",
   "metadata": {},
   "source": [
    "|Table|Description|\n",
    "|---|---|\n",
    "|**inventory_nairobi**| Fragment of the inventory table |\n",
    "| **category** | duplicate of the category table. Required since inventory_nairobi references it as a foreign key |\n",
    "|**suppliers** | duplicate of the suppliers table. Required since inventory_nairobi references it as a foreign key |\n"
   ]
  },
  {
   "cell_type": "markdown",
   "metadata": {},
   "source": [
    "### `category` Table"
   ]
  },
  {
   "cell_type": "code",
   "execution_count": null,
   "metadata": {
    "vscode": {
     "languageId": "sql"
    }
   },
   "outputs": [],
   "source": [
    "-- Active: 1706439151106@@24.144.94.53@3306@nitras\n",
    "\n",
    "USE nitras;\n",
    "\n",
    "CREATE TABLE category (\n",
    "    id INT PRIMARY KEY,\n",
    "    name VARCHAR(255) NOT NULL,\n",
    "    storehouse VARCHAR(50) NOT NULL\n",
    ");\n",
    "\n",
    "INSERT INTO category (id, name, storehouse) VALUES\n",
    "(1, 'Clothing', 'Nairobi'),\n",
    "(2, 'Electronics', 'Nakuru'),\n",
    "(3, 'Books', 'Machakos'),\n",
    "(4, 'Toys', 'Nairobi'),\n",
    "(5, 'Furniture', 'Nakuru');"
   ]
  },
  {
   "cell_type": "markdown",
   "metadata": {},
   "source": [
    "### `suppliers` Table"
   ]
  },
  {
   "cell_type": "code",
   "execution_count": null,
   "metadata": {
    "vscode": {
     "languageId": "sql"
    }
   },
   "outputs": [],
   "source": [
    "-- Active: 1706439151106@@24.144.94.53@3306@nitras\n",
    "\n",
    "USE nitras;\n",
    "\n",
    "CREATE TABLE suppliers (\n",
    "    id INT PRIMARY KEY,\n",
    "    name VARCHAR(255) NOT NULL,\n",
    "    email VARCHAR(255) NOT NULL,\n",
    "    phone VARCHAR(20),\n",
    "    address TEXT,\n",
    "    products_count INT\n",
    ");\n",
    "\n",
    "INSERT INTO suppliers (id, name, email, phone, address, products_count) VALUES\n",
    "(1, 'Supplier A', 'supplierA@example.com', '111-222-3333', '400 Supplier St', 5),\n",
    "(2, 'Supplier B', 'supplierB@example.com', '444-555-6666', '500 Supplier St', 3),\n",
    "(3, 'Supplier C', 'supplierC@example.com', '777-888-9999', '600 Supplier St', 7),\n",
    "(4, 'Supplier D', 'supplierD@example.com', '999-888-7777', '700 Supplier St', 10),\n",
    "(5, 'Supplier E', 'supplierE@example.com', '333-555-1111', '800 Supplier St', 8);"
   ]
  },
  {
   "cell_type": "markdown",
   "metadata": {},
   "source": [
    "### `inventory_nairobi` Table"
   ]
  },
  {
   "cell_type": "code",
   "execution_count": null,
   "metadata": {
    "vscode": {
     "languageId": "sql"
    }
   },
   "outputs": [],
   "source": [
    "-- Active: 1706439151106@@24.144.94.53@3306@nitras\n",
    "\n",
    "USE nitras;\n",
    "\n",
    "--\n",
    "-- Create Global Table `inventory`\n",
    "--\n",
    "CREATE TABLE inventory (\n",
    "    id INT PRIMARY KEY,\n",
    "    name VARCHAR(255) NOT NULL,\n",
    "    category_id INT,\n",
    "    description TEXT,\n",
    "    price DECIMAL(10, 2) NOT NULL,\n",
    "    quantity INT NOT NULL,\n",
    "    supplier_id INT,\n",
    "    FOREIGN KEY (category_id) REFERENCES category(id),\n",
    "    FOREIGN KEY (supplier_id) REFERENCES suppliers(id)\n",
    ");\n",
    "\n",
    "INSERT INTO inventory (id, name, category_id, description, price, quantity, supplier_id) VALUES\n",
    "(1, 'T-Shirt', 1, 'Cotton T-Shirt', 19.99, 100, 1),\n",
    "(2, 'Laptop', 2, 'High-performance laptop', 899.99, 30, 2),\n",
    "(3, 'Harry Potter Book', 3, 'Fantasy novel', 15.99, 50, 3),\n",
    "(4, 'Action Figure', 4, 'Superhero action figure', 9.99, 80, 4),\n",
    "(5, 'Sofa', 5, 'Comfortable sofa', 499.99, 10, 5),\n",
    "(6, 'Jeans', 1, 'Blue jeans', 29.99, 50, 1),\n",
    "(7, 'Smartphone', 2, 'Latest smartphone model', 699.99, 20, 2),\n",
    "(8, 'Cookbook', 3, 'Collection of recipes', 12.99, 40, 3),\n",
    "(9, 'Board Game', 4, 'Family board game', 24.99, 60, 4),\n",
    "(10, 'Coffee Table', 5, 'Wooden coffee table', 129.99, 15, 5),\n",
    "(11, 'Dress', 1, 'Elegant dress', 39.99, 30, 1),\n",
    "(12, 'Headphones', 2, 'Noise-canceling headphones', 149.99, 25, 2),\n",
    "(13, 'Mystery Novel', 3, 'Thriller mystery novel', 18.99, 35, 3),\n",
    "(14, 'Building Blocks', 4, 'Educational building blocks', 14.99, 70, 4),\n",
    "(15, 'Bed Frame', 5, 'Queen-sized bed frame', 299.99, 8, 5),\n",
    "(16, 'Polo Shirt', 1, 'Casual polo shirt', 24.99, 40, 1),\n",
    "(17, 'Tablet', 2, 'Android tablet', 199.99, 15, 2),\n",
    "(18, 'Science Book', 3, 'Scientific exploration book', 20.99, 25, 3),\n",
    "(19, 'Puzzle Set', 4, 'Challenging puzzle set', 17.99, 55, 4),\n",
    "(20, 'Bookshelf', 5, 'Wooden bookshelf', 179.99, 12, 5);\n",
    "\n",
    "--\n",
    "-- Create Fragment Table `inventory_nairobi`\n",
    "--\n",
    "CREATE TABLE inventory_nairobi AS\n",
    "SELECT * FROM inventory WHERE category_id = 1 -- Clothing\n",
    "UNION\n",
    "SELECT * FROM inventory WHERE category_id = 4; -- Toys\n",
    "\n",
    "INSERT INTO inventory_nairobi\n",
    "SELECT * FROM inventory WHERE category_id = 1 -- Clothing\n",
    "UNION\n",
    "SELECT * FROM inventory WHERE category_id = 4; -- Toys\n"
   ]
  },
  {
   "cell_type": "markdown",
   "metadata": {},
   "source": [
    "### `customers` table"
   ]
  },
  {
   "cell_type": "code",
   "execution_count": null,
   "metadata": {
    "vscode": {
     "languageId": "sql"
    }
   },
   "outputs": [],
   "source": [
    "-- Active: 1706439151106@@24.144.94.53@3306@nitras\n",
    "\n",
    "CREATE TABLE customers (\n",
    "    id INT PRIMARY KEY,\n",
    "    name VARCHAR(255) NOT NULL,\n",
    "    email VARCHAR(255) NOT NULL,\n",
    "    password VARCHAR(255) NOT NULL,\n",
    "    phone VARCHAR(20),\n",
    "    address TEXT,\n",
    "    orders_count INT\n",
    ");\n",
    "\n",
    "INSERT INTO customers (id, name, email, password, phone, address, orders_count) VALUES\n",
    "(1, 'John Doe', 'john@example.com', 'password123', '123-456-7890', '101 Main St', 2),\n",
    "(2, 'Jane Smith', 'jane@example.com', 'pass456', '987-654-3210', '202 Oak St', 1),\n",
    "(3, 'Bob Johnson', 'bob@example.com', 'secret321', '555-123-4567', '303 Pine St', 3),\n",
    "(4, 'Alice Brown', 'alice@example.com', 'qwerty', '777-888-1234', '404 Maple St', 2),\n",
    "(5, 'Charlie Davis', 'charlie@example.com', 'abcdef', '555-999-1111', '505 Cedar St', 4);"
   ]
  }
 ],
 "metadata": {
  "language_info": {
   "name": "python"
  }
 },
 "nbformat": 4,
 "nbformat_minor": 2
}
